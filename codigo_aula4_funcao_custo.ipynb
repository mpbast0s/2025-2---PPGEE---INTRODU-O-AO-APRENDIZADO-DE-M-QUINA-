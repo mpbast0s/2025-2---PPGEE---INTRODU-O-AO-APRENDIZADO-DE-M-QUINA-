{
  "cells": [
    {
      "cell_type": "markdown",
      "metadata": {
        "id": "view-in-github",
        "colab_type": "text"
      },
      "source": [
        "<a href=\"https://colab.research.google.com/github/mpbast0s/2025-2---PPGEE---INTRODU-O-AO-APRENDIZADO-DE-M-QUINA-/blob/main/codigo_aula4_funcao_custo.ipynb\" target=\"_parent\"><img src=\"https://colab.research.google.com/assets/colab-badge.svg\" alt=\"Open In Colab\"/></a>"
      ]
    },
    {
      "cell_type": "markdown",
      "id": "78220b29",
      "metadata": {
        "pycharm": {
          "name": "#%% md\n"
        },
        "id": "78220b29"
      },
      "source": [
        "# Compreendendo a função custo\n",
        "\n"
      ]
    },
    {
      "cell_type": "markdown",
      "id": "269658ca",
      "metadata": {
        "pycharm": {
          "name": "#%% md\n"
        },
        "id": "269658ca"
      },
      "source": [
        "## Objetivo\n",
        "\n",
        "- Implementar e explorar a função `custo` utilizada na regressão linear com uma variável.\n"
      ]
    },
    {
      "cell_type": "markdown",
      "id": "2ae5690d",
      "metadata": {
        "pycharm": {
          "name": "#%% md\n"
        },
        "id": "2ae5690d"
      },
      "source": [
        "## Ferramentas\n",
        "\n",
        "Nesse código, você usará:\n",
        "- NumPy, uma biblioteca popular para cálculos matriciais, etc\n",
        "- Matplotlib, uma biblioteca popular para gerar figuras a partir de dados"
      ]
    },
    {
      "cell_type": "code",
      "execution_count": 1,
      "id": "2649614f",
      "metadata": {
        "pycharm": {
          "name": "#%%\n"
        },
        "id": "2649614f"
      },
      "outputs": [],
      "source": [
        "import numpy as np\n",
        "import matplotlib.pyplot as plt"
      ]
    },
    {
      "cell_type": "markdown",
      "id": "343c823e",
      "metadata": {
        "pycharm": {
          "name": "#%% md\n"
        },
        "id": "343c823e"
      },
      "source": [
        "## Definição do Problema\n",
        "\n",
        "Você gostaria de estimar a tensão sobre um resistor com base no seu valor de corrente.\n",
        "\n",
        "Usaremos as mesmas amostras de dados que já utilizamos no código anterior:\n",
        "\n",
        "| Corrente (A)     | Tensão (V) |\n",
        "| -------------------| ------------------------ |\n",
        "| 0.2               | 21                      |\n",
        "| 4.5               | 430                      |\n"
      ]
    },
    {
      "cell_type": "code",
      "execution_count": 2,
      "id": "a80bf969",
      "metadata": {
        "pycharm": {
          "name": "#%%\n"
        },
        "id": "a80bf969"
      },
      "outputs": [],
      "source": [
        "x_trein = np.array([ 0.2,2.,5.,10.])       # característica\n",
        "y_trein = np.array([ 10.64975337,106.49753367,266.24383418,532.48766835])    # valor alvo"
      ]
    },
    {
      "cell_type": "markdown",
      "id": "eb6e8b54",
      "metadata": {
        "pycharm": {
          "name": "#%% md\n"
        },
        "id": "eb6e8b54"
      },
      "source": [
        "## Calculando o Custo\n",
        "\n",
        "O custo mede o quão bem o nosso modelo está estimando a tensão sobre o resistor.\n",
        "\n",
        "A equação para o custo com uma variável é:\n",
        "  $$J(w,b) = \\frac{1}{2m} \\sum\\limits_{i = 0}^{m-1} (f_{w,b}(x^{(i)}) - y^{(i)})^2 \\tag{1}$$\n",
        "\n",
        "onde\n",
        "  $$f_{w,b}(x^{(i)}) = wx^{(i)} + b \\tag{2}$$\n",
        "  \n",
        "- $f_{w,b}(x^{(i)})$ é a nossa previsão para a amostra $i$ usando os parâmetros $w,b$.  \n",
        "- $(f_{w,b}(x^{(i)}) -y^{(i)})^2$ é o erro quadrático entre o valor alvo (medido) e a previsão (estimativa) feita pelo modelo.   \n",
        "- Esses erros são somados para todas as $m$ amostras e divididas por `2m` para produzir o custo $J(w,b)$.  \n",
        ">OBS: Nos slides da disciplina, o somatório vai tipicamente de 1 até m. Por outro lado, no código ele vai de 0 até m-1, já que em Python tem-se como zero a referência de indexação para vetores e matrizes\n"
      ]
    },
    {
      "cell_type": "markdown",
      "id": "1e414f69",
      "metadata": {
        "pycharm": {
          "name": "#%% md\n"
        },
        "id": "1e414f69"
      },
      "source": [
        "O código abaixo calcula o custo fazendo um loop que passa por cada uma das amostras. Para cada iteração do loop:\n",
        "- a saída do modelo `f_wb` é calculada (previsão)\n",
        "- a diferença (erro) entre a saída alvo e a previsão é calculada e elevada ao quadrado.\n",
        "- essa quantidade é adicionada ao custo total."
      ]
    },
    {
      "cell_type": "code",
      "execution_count": 3,
      "id": "21c9688a",
      "metadata": {
        "pycharm": {
          "name": "#%%\n"
        },
        "id": "21c9688a"
      },
      "outputs": [],
      "source": [
        "def calcula_custo(x, y, w, b):\n",
        "    \"\"\"\n",
        "    Calcula a função custo no âmbito da regressão linear.\n",
        "    Argumentos da função:\n",
        "      x (ndarray (m,)): Conjunto de dados com m amostras\n",
        "      y (ndarray (m,)): Valores alvo de saída\n",
        "      w,b (escalar)   : Parâmetros do modelo\n",
        "    Retorna\n",
        "      custo_total (float): O custo de se usar w,b como parâmetros na regressão linear\n",
        "               para ajustar os dados\n",
        "    \"\"\"\n",
        "    # número de amostras de treinamento\n",
        "    m = x.shape[0]\n",
        "\n",
        "    soma_custo = 0\n",
        "    for i in range(m):\n",
        "        f_wb = w * x[i] + b\n",
        "        custo = (f_wb - y[i]) ** 2\n",
        "        soma_custo = soma_custo + custo\n",
        "    custo_total = (1 / (2 * m)) * soma_custo\n",
        "\n",
        "    return custo_total"
      ]
    },
    {
      "cell_type": "markdown",
      "id": "f0516489",
      "metadata": {
        "pycharm": {
          "name": "#%% md\n"
        },
        "id": "f0516489"
      },
      "source": [
        "## Função custo: uma visão intuitiva"
      ]
    },
    {
      "cell_type": "markdown",
      "id": "e66fdec2",
      "metadata": {
        "pycharm": {
          "name": "#%% md\n"
        },
        "id": "e66fdec2"
      },
      "source": [
        "O seu objetivo agora é encontrar um modelo $f_{w,b}(x) = wx + b$, com parâmetros $w,b$, que seja capaz de estimar com precisão a tensão sobre um resistor para uma dada corrente de entrada $x$. O custo é a medida do quão bem o modelo performa para os dados de treinamento em questão.\n",
        "\n",
        "A função custo (1) acima mostra que, se $w$ e $b$ podem ser selecionados tal que as previsões $f_{w,b}(x)$ são iguais aos dados em $y$, então o termo $(f_{w,b}(x^{(i)}) - y^{(i)})^2 $ será zero e o custo é minimizado totalmente. Neste exemplo simples que possui apenas dois pontos, você pode conseguir exatamente isso.\n",
        "\n",
        "No código anterior, você já encontrou valores para $w,b$ que resultam num modelo preciso. Insira esses valores no código abaixo e verifique o custo associado. Se necessário, refine os valores escolhidos para $w,b$ até que um custo $J(w,b)$ próximo de zero seja obtido."
      ]
    },
    {
      "cell_type": "code",
      "execution_count": 18,
      "id": "873cd691",
      "metadata": {
        "colab": {
          "base_uri": "https://localhost:8080/",
          "height": 468
        },
        "id": "873cd691",
        "outputId": "e18a0270-3765-47d3-ecf7-00aeb620e0db"
      },
      "outputs": [
        {
          "output_type": "display_data",
          "data": {
            "text/plain": [
              "<Figure size 640x480 with 1 Axes>"
            ],
            "image/png": "[encoded data removed]"
          },
          "metadata": {}
        },
        {
          "output_type": "stream",
          "name": "stdout",
          "text": [
            "Custo J para esse conjunto de parâmetros w,b: 2.4528817252447624e-05\n"
          ]
        }
      ],
      "source": [
        "w = 53.25\n",
        "b = 0\n",
        "\n",
        "# Calculando a tensão estimada para o modelo para as correntes em x_trein\n",
        "m    = x_trein.shape[0]\n",
        "f_wb = np.zeros(m)\n",
        "for i in range(m):\n",
        "    f_wb[i] = w * x_trein[i] + b\n",
        "\n",
        "J = calcula_custo(x_trein, y_trein, w, b)\n",
        "\n",
        "# Plotando a previsão feita pelo modelo\n",
        "plt.plot(x_trein, f_wb, c='b',label='Nosso modelo')\n",
        "\n",
        "# Plotando os dados medidos\n",
        "plt.scatter(x_trein, y_trein, marker='x', c='r',label='Valores dos dados')\n",
        "\n",
        "# Ajustando o rótulo do eixo y\n",
        "plt.ylabel('Tensão (em Volts)')\n",
        "# Ajustando o rótulo do eixo x\n",
        "plt.xlabel('Corrente (em Àmperes)')\n",
        "plt.legend()\n",
        "plt.show()\n",
        "\n",
        "print(f\"Custo J para esse conjunto de parâmetros w,b: {J}\")"
      ]
    },
    {
      "cell_type": "markdown",
      "id": "eda97809",
      "metadata": {
        "pycharm": {
          "name": "#%% md\n"
        },
        "id": "eda97809"
      },
      "source": [
        "Note no código abaixo que, fixando o valor de $b$ em $b=0$, podemos verificar como é o gráfico da função custo $J$ em função do parâmetro $w$."
      ]
    },
    {
      "cell_type": "code",
      "execution_count": 9,
      "id": "e8d1bbcf",
      "metadata": {
        "colab": {
          "base_uri": "https://localhost:8080/",
          "height": 449
        },
        "id": "e8d1bbcf",
        "outputId": "8041be54-f1d9-4918-e602-baf61ae6b67c"
      },
      "outputs": [
        {
          "output_type": "display_data",
          "data": {
            "text/plain": [
              "<Figure size 640x480 with 1 Axes>"
            ],
            "image/png": "[encoded data removed]"
          },
          "metadata": {}
        }
      ],
      "source": [
        "b = 0\n",
        "\n",
        "valores_para_w = np.array([ 49, 50, 51, 52, 53, 54, 55, 56, 57])\n",
        "\n",
        "qtdade_de_valores = valores_para_w.shape[0]\n",
        "\n",
        "J = np.zeros(qtdade_de_valores)\n",
        "\n",
        "for i in range(qtdade_de_valores):\n",
        "    w    = valores_para_w[i]\n",
        "    J[i] = calcula_custo(x_trein, y_trein, w, b)\n",
        "\n",
        "# Plotando o custo em J para diferentes valores de w\n",
        "plt.plot(valores_para_w, J, c='b')\n",
        "\n",
        "# Ajustando o rótulo do eixo y\n",
        "plt.ylabel('J(w)')\n",
        "# Ajustando o rótulo do eixo x\n",
        "plt.xlabel('w')\n",
        "plt.show()"
      ]
    },
    {
      "cell_type": "markdown",
      "id": "0c01197c",
      "metadata": {
        "pycharm": {
          "name": "#%% md\n"
        },
        "id": "0c01197c"
      },
      "source": [
        "Alguns pontos podem ser destacados\n",
        "- O custo é minimizado para $b$ próximo de 0 e para $w$ próximo de 53. Tais resultados estão de acordo com os resultados vistos no último código.\n",
        "- Uma vez que o erro entre o valor medido e a previsão é elevado ao quadrado na função custo, o custo rapidamente cresce quando $w$ se distancia do seu valor ideal.\n",
        "- Se `w` e `b` forem selecionados de forma que $J=0$, isso significa que o modelo se ajusta perfeitamente aos dados."
      ]
    },
    {
      "cell_type": "markdown",
      "id": "54eabff4",
      "metadata": {
        "pycharm": {
          "name": "#%% md\n"
        },
        "id": "54eabff4"
      },
      "source": [
        "# Parabéns!\n",
        "Você aprendeu o seguinte nesse código:\n",
        " - A função custo nos fornece uma medida de quão boas são as estimativas feitas pelo nosso modelo\n",
        " - Minimizar a função custo pode nos levar a valores ótimos para $w$, $b$."
      ]
    },
    {
      "cell_type": "code",
      "execution_count": 5,
      "id": "5e2f2d66",
      "metadata": {
        "pycharm": {
          "name": "#%%\n"
        },
        "id": "5e2f2d66"
      },
      "outputs": [],
      "source": []
    }
  ],
  "metadata": {
    "kernelspec": {
      "display_name": "Python 3 (ipykernel)",
      "language": "python",
      "name": "python3"
    },
    "language_info": {
      "codemirror_mode": {
        "name": "ipython",
        "version": 3
      },
      "file_extension": ".py",
      "mimetype": "text/x-python",
      "name": "python",
      "nbconvert_exporter": "python",
      "pygments_lexer": "ipython3",
      "version": "3.9.12"
    },
    "toc-autonumbering": false,
    "colab": {
      "provenance": [],
      "include_colab_link": true
    }
  },
  "nbformat": 4,
  "nbformat_minor": 5
}